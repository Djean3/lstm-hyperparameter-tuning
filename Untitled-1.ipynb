{
 "cells": [
  {
   "cell_type": "code",
   "execution_count": 2,
   "metadata": {},
   "outputs": [
    {
     "name": "stdout",
     "output_type": "stream",
     "text": [
      "TensorFlow version: 2.19.0\n",
      "Num GPUs Available: 1\n",
      "GPU Devices: [PhysicalDevice(name='/physical_device:GPU:0', device_type='GPU')]\n",
      "✅ GPU memory growth set.\n"
     ]
    }
   ],
   "source": [
    "# ✅ Core scientific packages\n",
    "import numpy as np\n",
    "import pandas as pd\n",
    "import matplotlib.pyplot as plt\n",
    "import seaborn as sns\n",
    "import scipy\n",
    "import math\n",
    "import os\n",
    "import datetime as dt\n",
    "import time\n",
    "import ast\n",
    "import warnings\n",
    "import os\n",
    "import logging\n",
    "import warnings\n",
    "import tensorflow as tf\n",
    "\n",
    "# Suppress TensorFlow logs\n",
    "os.environ['TF_CPP_MIN_LOG_LEVEL'] = '3'  # 0 = all logs, 1 = filter INFO, 2 = filter WARNING, 3 = filter ERROR\n",
    "\n",
    "# Optional: suppress TF warnings that slip through\n",
    "tf.get_logger().setLevel('ERROR')\n",
    "logging.getLogger('tensorflow').setLevel(logging.ERROR)\n",
    "warnings.filterwarnings('ignore')\n",
    "\n",
    "# ✅ Machine learning + metrics\n",
    "from sklearn.preprocessing import MinMaxScaler\n",
    "from sklearn.metrics import mean_squared_error, mean_absolute_error, r2_score\n",
    "\n",
    "# ✅ TensorFlow & Keras\n",
    "import tensorflow as tf\n",
    "from tensorflow.keras.models import Sequential\n",
    "from tensorflow.keras.layers import LSTM, Dense, Dropout\n",
    "from tensorflow.keras import optimizers\n",
    "\n",
    "# ✅ Optimization & logging\n",
    "import mlflow\n",
    "import optuna\n",
    "from hyperopt import hp, tpe, fmin, Trials\n",
    "\n",
    "# ✅ Plotting\n",
    "import plotly.express as px\n",
    "sns.set_theme(style=\"whitegrid\")\n",
    "plt.style.use(\"ggplot\")\n",
    "\n",
    "# ✅ Suppress warnings\n",
    "warnings.filterwarnings(\"ignore\")\n",
    "\n",
    "# ✅ Check GPU availability\n",
    "print(\"TensorFlow version:\", tf.__version__)\n",
    "print(\"Num GPUs Available:\", len(tf.config.list_physical_devices('GPU')))\n",
    "print(\"GPU Devices:\", tf.config.list_physical_devices('GPU'))\n",
    "\n",
    "# Force TensorFlow to use the first GPU if available\n",
    "if tf.config.list_physical_devices('GPU'):\n",
    "    tf.config.experimental.set_memory_growth(tf.config.list_physical_devices('GPU')[0], True)\n",
    "    print(\"✅ GPU memory growth set.\")\n",
    "else:\n",
    "    print(\"⚠️ No GPU detected.\")\n"
   ]
  },
  {
   "cell_type": "code",
   "execution_count": null,
   "metadata": {},
   "outputs": [],
   "source": []
  }
 ],
 "metadata": {
  "kernelspec": {
   "display_name": "lstm-hyperparameter-tuning-4AmjQrgG-py3.11",
   "language": "python",
   "name": "python3"
  },
  "language_info": {
   "codemirror_mode": {
    "name": "ipython",
    "version": 3
   },
   "file_extension": ".py",
   "mimetype": "text/x-python",
   "name": "python",
   "nbconvert_exporter": "python",
   "pygments_lexer": "ipython3",
   "version": "3.11.7"
  }
 },
 "nbformat": 4,
 "nbformat_minor": 2
}
